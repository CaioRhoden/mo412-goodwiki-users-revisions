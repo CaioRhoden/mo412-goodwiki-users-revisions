{
 "cells": [
  {
   "cell_type": "code",
   "execution_count": 2,
   "id": "a120bc65",
   "metadata": {},
   "outputs": [],
   "source": [
    "import os\n",
    "import polars as pl\n",
    "PATH = \"../data/\""
   ]
  },
  {
   "cell_type": "code",
   "execution_count": 11,
   "id": "58b00587",
   "metadata": {},
   "outputs": [],
   "source": [
    "data = []\n",
    "for file in os.listdir(PATH):\n",
    "    if file.endswith(\".parquet\") and file.startswith(\"revisions_\"):\n",
    "        _data = pl.read_parquet(os.path.join(PATH, file))\n",
    "        try:\n",
    "            _data = _data.drop(([\"anon\"]))\n",
    "        except Exception as e:\n",
    "            pass\n",
    "        data.append(_data)\n",
    "\n",
    "df = pl.concat(data)\n",
    "df.write_parquet(os.path.join(PATH, \"revisions_dataset.parquet\"))"
   ]
  }
 ],
 "metadata": {
  "kernelspec": {
   "display_name": "mo412",
   "language": "python",
   "name": "python3"
  },
  "language_info": {
   "codemirror_mode": {
    "name": "ipython",
    "version": 3
   },
   "file_extension": ".py",
   "mimetype": "text/x-python",
   "name": "python",
   "nbconvert_exporter": "python",
   "pygments_lexer": "ipython3",
   "version": "3.12.11"
  }
 },
 "nbformat": 4,
 "nbformat_minor": 5
}
