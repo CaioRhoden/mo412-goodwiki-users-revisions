{
 "cells": [
  {
   "cell_type": "code",
   "execution_count": 1,
   "id": "c75c0928",
   "metadata": {},
   "outputs": [
    {
     "name": "stdout",
     "output_type": "stream",
     "text": [
      "[{'user': 'Bdk', 'timestamp': '2005-09-16T01:14:43Z', 'comment': 'Reverted edit of 82.36.210.14, changed back to last version by Brion VIBBER'}]\n",
      "[{'user': 'Clump', 'timestamp': '2025-09-09T14:02:10Z', 'comment': 'Reverted edits by [[Special:Contribs/W.andrea|W.andrea]] ([[User talk:W.andrea|talk]]) to last version by Clump'}]\n"
     ]
    }
   ],
   "source": [
    "import requests\n",
    "\n",
    "S = requests.Session()\n",
    "\n",
    "URL = \"https://www.mediawiki.org/w/api.php\"\n",
    "\n",
    "PARAMS = {\n",
    "    \"action\": \"query\",\n",
    "    \"prop\": \"revisions\",\n",
    "    \"titles\": \"API|Main Page\",\n",
    "    \"rvprop\": \"timestamp|user|comment\",\n",
    "    \"rvslots\": \"main\",\n",
    "    \"formatversion\": \"2\",\n",
    "    \"format\": \"json\"\n",
    "}\n",
    "\n",
    "HEADERS = {\n",
    "    \"User-Agent\": \"MyApp/1.0 (https://example.com)\"\n",
    "}\n",
    "\n",
    "R = S.get(url=URL, params=PARAMS, headers=HEADERS)\n",
    "data = R.json()\n",
    "\n",
    "pages = data[\"query\"][\"pages\"]\n",
    "\n",
    "for page in pages:\n",
    "    print(page[\"revisions\"])"
   ]
  }
 ],
 "metadata": {
  "kernelspec": {
   "display_name": "mo412",
   "language": "python",
   "name": "python3"
  },
  "language_info": {
   "codemirror_mode": {
    "name": "ipython",
    "version": 3
   },
   "file_extension": ".py",
   "mimetype": "text/x-python",
   "name": "python",
   "nbconvert_exporter": "python",
   "pygments_lexer": "ipython3",
   "version": "3.12.11"
  }
 },
 "nbformat": 4,
 "nbformat_minor": 5
}
